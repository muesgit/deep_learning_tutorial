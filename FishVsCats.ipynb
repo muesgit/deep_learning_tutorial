{
  "nbformat": 4,
  "nbformat_minor": 0,
  "metadata": {
    "colab": {
      "provenance": [],
      "authorship_tag": "ABX9TyN6ZrunzPUi3lEvfxh6Dj3H",
      "include_colab_link": true
    },
    "kernelspec": {
      "name": "python3",
      "display_name": "Python 3"
    },
    "language_info": {
      "name": "python"
    }
  },
  "cells": [
    {
      "cell_type": "markdown",
      "metadata": {
        "id": "view-in-github",
        "colab_type": "text"
      },
      "source": [
        "<a href=\"https://colab.research.google.com/github/muesgit/deep_learning_tutorial/blob/main/FishVsCats.ipynb\" target=\"_parent\"><img src=\"https://colab.research.google.com/assets/colab-badge.svg\" alt=\"Open In Colab\"/></a>"
      ]
    },
    {
      "cell_type": "code",
      "source": [
        "# Mount Drive to Colab\n",
        "from google.colab import drive\n",
        "drive.mount('/content/drive')"
      ],
      "metadata": {
        "colab": {
          "base_uri": "https://localhost:8080/"
        },
        "id": "mHmwHwH45HjL",
        "outputId": "d5ab6d98-a290-4da6-a925-fa01a29e1c72"
      },
      "execution_count": 2,
      "outputs": [
        {
          "output_type": "stream",
          "name": "stdout",
          "text": [
            "Mounted at /content/drive\n"
          ]
        }
      ]
    },
    {
      "cell_type": "code",
      "execution_count": 7,
      "metadata": {
        "id": "D0RYkcM6mrps"
      },
      "outputs": [],
      "source": [
        "# Build Training Dataset\n",
        "import torchvision\n",
        "from torchvision import transforms\n",
        "\n",
        "train_data_path = '/content/drive/MyDrive/Colab Notebooks/Pytorch_Book/train'\n",
        "# to secure the model from overfitting, the validation data set is created\n",
        "# after each training cycle (epoch) it is compared against it\n",
        "val_data_path = '/content/drive/MyDrive/Colab Notebooks/Pytorch_Book/val'\n",
        "# test model after all training has been completed\n",
        "test_data_path = '/content/drive/MyDrive/Colab Notebooks/Pytorch_Book/test'\n",
        "\n",
        "transforms = transforms.Compose([\n",
        "    # Scale incoming image to defined Resolution\n",
        "    transforms.Resize(64),\n",
        "    # Convert image to tensor\n",
        "    transforms.ToTensor(),\n",
        "    # normalize image to keep the incoming values between 0 and 1\n",
        "    # (exploding gradient problem), Values from ImageNet dataset\n",
        "    transforms.Normalize(mean=[0.485, 0.456, 0.406],\n",
        "                         std=[0.229, 0.224, 0.225])\n",
        "])\n",
        "\n",
        "train_data  = torchvision.datasets.ImageFolder(root=train_data_path,\n",
        "                                              transform=transforms)\n",
        "val_data    = torchvision.datasets.ImageFolder(root=val_data_path,\n",
        "                                            transform=transforms)\n",
        "test_data   = torchvision.datasets.ImageFolder(root=test_data_path,\n",
        "                                             transform=transforms)"
      ]
    },
    {
      "cell_type": "code",
      "source": [
        "import torch.utils.data\n",
        "from torch.utils.data import DataLoader\n",
        "# Build Loader\n",
        "# Batch Size (mini-batches require less memory)\n",
        "batch_size = 64\n",
        "train_data_loader = DataLoader(train_data, batch_size=batch_size)\n",
        "val_data_loader   = DataLoader(val_data, batch_size=batch_size)\n",
        "test_data_loader  = DataLoader(test_data, batch_size=batch_size)"
      ],
      "metadata": {
        "id": "fjE6TDapm86Q"
      },
      "execution_count": 8,
      "outputs": []
    },
    {
      "cell_type": "code",
      "source": [
        "# Building fully connected neural network\n",
        "import torch.nn as nn\n",
        "import torch.nn.functional as F\n",
        "\n",
        "class SimpleNet(nn.Module):\n",
        "    def __init__(self):\n",
        "        super(SimpleNet, self).__init__()\n",
        "        # the fully connected layers, numbers in between are arbitraty\n",
        "        self.fc1 = nn.Linear(12288, 84)\n",
        "        self.fc2 = nn.Linear(84, 50)\n",
        "        # last layer has size of classes (two: Cat, Fish)\n",
        "        self.fc3 = nn.Linear(50, 2)\n",
        "    def forward(self, x):\n",
        "        # transform x (datashape)\n",
        "        x = x.view(-1, 12288)\n",
        "        # relu, rectified linear output\n",
        "        x = F.relu(self.fc1(x))\n",
        "        x = F.relu(self.fc2(x))\n",
        "        # since CrossEntropyLoss function is used for Loss determination,\n",
        "        # no softmax is used for the last layer\n",
        "        x = self.fc3(x)\n",
        "        return x\n",
        "\n",
        "simplenet = SimpleNet()"
      ],
      "metadata": {
        "id": "nlKQSQgf_ZCU"
      },
      "execution_count": null,
      "outputs": []
    }
  ]
}