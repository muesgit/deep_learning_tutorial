{
  "nbformat": 4,
  "nbformat_minor": 0,
  "metadata": {
    "colab": {
      "provenance": [],
      "gpuType": "T4",
      "authorship_tag": "ABX9TyMnVuUshdym2kQrfDQTIXty",
      "include_colab_link": true
    },
    "kernelspec": {
      "name": "python3",
      "display_name": "Python 3"
    },
    "language_info": {
      "name": "python"
    },
    "accelerator": "GPU"
  },
  "cells": [
    {
      "cell_type": "markdown",
      "metadata": {
        "id": "view-in-github",
        "colab_type": "text"
      },
      "source": [
        "<a href=\"https://colab.research.google.com/github/muesgit/deep_learning_tutorial/blob/main/FishVsCats.ipynb\" target=\"_parent\"><img src=\"https://colab.research.google.com/assets/colab-badge.svg\" alt=\"Open In Colab\"/></a>"
      ]
    },
    {
      "cell_type": "code",
      "source": [
        "# Mount Drive to Colab\n",
        "from google.colab import drive\n",
        "drive.mount('/content/drive')"
      ],
      "metadata": {
        "colab": {
          "base_uri": "https://localhost:8080/"
        },
        "id": "mHmwHwH45HjL",
        "outputId": "29b6a3a4-f420-4395-9757-8b8a1152d109"
      },
      "execution_count": 18,
      "outputs": [
        {
          "output_type": "stream",
          "name": "stdout",
          "text": [
            "Drive already mounted at /content/drive; to attempt to forcibly remount, call drive.mount(\"/content/drive\", force_remount=True).\n"
          ]
        }
      ]
    },
    {
      "cell_type": "code",
      "execution_count": 19,
      "metadata": {
        "id": "D0RYkcM6mrps",
        "colab": {
          "base_uri": "https://localhost:8080/"
        },
        "outputId": "d8090755-9a34-4ff5-904b-407b68175fff"
      },
      "outputs": [
        {
          "output_type": "execute_result",
          "data": {
            "text/plain": [
              "Dataset ImageFolder\n",
              "    Number of datapoints: 801\n",
              "    Root location: /content/drive/MyDrive/Colab Notebooks/Pytorch_Book/train\n",
              "    StandardTransform\n",
              "Transform: Compose(\n",
              "               Resize(size=(64, 64), interpolation=bilinear, max_size=None, antialias=True)\n",
              "               ToTensor()\n",
              "               Normalize(mean=[0.485, 0.456, 0.406], std=[0.229, 0.224, 0.225])\n",
              "           )"
            ]
          },
          "metadata": {},
          "execution_count": 19
        }
      ],
      "source": [
        "# Build Training Dataset\n",
        "import torchvision\n",
        "from torchvision import transforms\n",
        "from PIL import Image, ImageFile\n",
        "\n",
        "ImageFile.LOAD_TRUNCATED_IMAGES=True\n",
        "\n",
        "train_data_path = '/content/drive/MyDrive/Colab Notebooks/Pytorch_Book/train'\n",
        "# to secure the model from overfitting, the validation data set is created\n",
        "# after each training cycle (epoch) it is compared against it\n",
        "val_data_path = '/content/drive/MyDrive/Colab Notebooks/Pytorch_Book/val'\n",
        "# test model after all training has been completed\n",
        "test_data_path = '/content/drive/MyDrive/Colab Notebooks/Pytorch_Book/test'\n",
        "\n",
        "# Check if image from the dataset can be opened, otherwise it wont be used\n",
        "def check_image(path):\n",
        "    try:\n",
        "        im = Image.open(path)\n",
        "        return True\n",
        "    except:\n",
        "        return False\n",
        "\n",
        "# Transformation routine\n",
        "transforms = transforms.Compose([\n",
        "    # Scale incoming image to defined Resolution\n",
        "    transforms.Resize((64, 64)),\n",
        "    # Convert image to tensor\n",
        "    transforms.ToTensor(),\n",
        "    # normalize image to keep the incoming values between 0 and 1\n",
        "    # (exploding gradient problem), Values from ImageNet dataset\n",
        "    transforms.Normalize(mean=[0.485, 0.456, 0.406],\n",
        "                         std=[0.229, 0.224, 0.225])\n",
        "])\n",
        "\n",
        "train_data  = torchvision.datasets.ImageFolder(root=train_data_path,\n",
        "                                              transform=transforms, is_valid_file=check_image)\n",
        "val_data    = torchvision.datasets.ImageFolder(root=val_data_path,\n",
        "                                            transform=transforms, is_valid_file=check_image)\n",
        "test_data   = torchvision.datasets.ImageFolder(root=test_data_path,\n",
        "                                             transform=transforms, is_valid_file=check_image)"
      ]
    },
    {
      "cell_type": "code",
      "source": [
        "import torch.utils.data\n",
        "from torch.utils.data import DataLoader\n",
        "# Build Loader\n",
        "# Data Loader is pushing data into the neural network for training\n",
        "# Batch Size (mini-batches require less memory)\n",
        "batch_size = 64\n",
        "train_data_loader = DataLoader(train_data, batch_size=batch_size)\n",
        "val_data_loader   = DataLoader(val_data, batch_size=batch_size)\n",
        "test_data_loader  = DataLoader(test_data, batch_size=batch_size)"
      ],
      "metadata": {
        "id": "fjE6TDapm86Q"
      },
      "execution_count": 20,
      "outputs": []
    },
    {
      "cell_type": "code",
      "source": [
        "# Building fully connected neural network\n",
        "import torch.nn as nn\n",
        "import torch.nn.functional as F\n",
        "\n",
        "class SimpleNet(nn.Module):\n",
        "    def __init__(self):\n",
        "        super(SimpleNet, self).__init__()\n",
        "        # the fully connected layers, numbers in between are arbitraty\n",
        "        self.fc1 = nn.Linear(12288, 84)\n",
        "        self.fc2 = nn.Linear(84, 50)\n",
        "        # last layer has size of classes (two: Cat, Fish)\n",
        "        self.fc3 = nn.Linear(50, 2)\n",
        "    def forward(self, x):\n",
        "        # transform x (datashape)\n",
        "        x = x.view(-1, 12288)\n",
        "        # relu, rectified linear output\n",
        "        x = F.relu(self.fc1(x))\n",
        "        x = F.relu(self.fc2(x))\n",
        "        # since CrossEntropyLoss function is used for Loss determination,\n",
        "        # no softmax is used for the last layer\n",
        "        x = self.fc3(x)\n",
        "        return x\n",
        "\n",
        "simplenet = SimpleNet()"
      ],
      "metadata": {
        "id": "nlKQSQgf_ZCU"
      },
      "execution_count": 21,
      "outputs": []
    },
    {
      "cell_type": "code",
      "source": [
        "# Create an optimizer\n",
        "import torch.optim as optim\n",
        "\n",
        "# lr := Learning Rate (increment)\n",
        "optimizer = optim.Adam(simplenet.parameters(), lr=0.001)\n",
        "\n",
        "def train(model, optimizer, loss_fn, train_loader, val_loader, epochs, device):\n",
        "  for epoch in range(epochs):\n",
        "\n",
        "    training_loss = 0.0\n",
        "    valid_loss = 0.0\n",
        "    model.train()\n",
        "\n",
        "    for batch in train_loader:\n",
        "      # Resetting Gradients, only use gradients of current branch\n",
        "      optimizer.zero_grad()\n",
        "      inputs, labels = batch\n",
        "      # move data to gpu\n",
        "      inputs = inputs.to(device)\n",
        "      labels = labels.to(device)\n",
        "      output = model(inputs)\n",
        "      # Calculate the loss (difference between test and prediction)\n",
        "      loss = loss_fn(output, labels)\n",
        "      # .backward:= compute gradients\n",
        "      loss.backward()\n",
        "      # .step:= adjust the weights\n",
        "      optimizer.step()\n",
        "      training_loss += loss.data.item()\n",
        "    training_loss /= len(train_loader)\n",
        "\n",
        "    model.eval()\n",
        "    num_correct = 0\n",
        "    num_examples = 0\n",
        "\n",
        "    for batch in val_loader:\n",
        "      inputs, labels = batch\n",
        "      inputs = inputs.to(device)\n",
        "      labels = labels.to(device)\n",
        "      output = model(inputs)\n",
        "      loss = loss_fn(output, labels)\n",
        "      valid_loss += loss.data.item()\n",
        "      correct = torch.eq(torch.max(F.softmax(output, dim=1), dim=1)[1], labels).view(-1)\n",
        "      num_correct += torch.sum(correct).item()\n",
        "      num_examples += correct.shape[0]\n",
        "    valid_loss /= len(val_loader)\n",
        "\n",
        "    print('Epoch: {}, Training Loss: {:.2f}, Validation Loss: {:.2f}, accuracy = {:.2f}'.\n",
        "          format(epoch, training_loss, valid_loss, num_correct / num_examples))"
      ],
      "metadata": {
        "id": "J-KWCWRF-FNw"
      },
      "execution_count": 22,
      "outputs": []
    },
    {
      "cell_type": "code",
      "source": [
        "# Load data into gpu if is available\n",
        "if torch.cuda.is_available():\n",
        "  device = torch.device(\"cuda\")\n",
        "else:\n",
        "  device = torch.device(\"cpu\")\n",
        "\n",
        "epochs = 20\n",
        "simplenet.to(device)\n",
        "train(simplenet, optimizer, torch.nn.CrossEntropyLoss(), train_data_loader, val_data_loader, epochs, device)"
      ],
      "metadata": {
        "colab": {
          "base_uri": "https://localhost:8080/"
        },
        "id": "hfF0v1jzOT6y",
        "outputId": "7ac84297-32b5-45f1-b88d-d6e4d42ca18b"
      },
      "execution_count": 23,
      "outputs": [
        {
          "output_type": "stream",
          "name": "stdout",
          "text": [
            "Epoch: 0, Training Loss: 2.97, Validation Loss: 6.72, accuracy = 0.40\n",
            "Epoch: 1, Training Loss: 3.39, Validation Loss: 1.77, accuracy = 0.60\n",
            "Epoch: 2, Training Loss: 1.29, Validation Loss: 0.81, accuracy = 0.57\n",
            "Epoch: 3, Training Loss: 0.73, Validation Loss: 0.74, accuracy = 0.73\n",
            "Epoch: 4, Training Loss: 0.46, Validation Loss: 0.79, accuracy = 0.70\n",
            "Epoch: 5, Training Loss: 0.40, Validation Loss: 0.73, accuracy = 0.70\n",
            "Epoch: 6, Training Loss: 0.32, Validation Loss: 0.76, accuracy = 0.71\n",
            "Epoch: 7, Training Loss: 0.27, Validation Loss: 0.78, accuracy = 0.68\n",
            "Epoch: 8, Training Loss: 0.24, Validation Loss: 0.74, accuracy = 0.71\n",
            "Epoch: 9, Training Loss: 0.20, Validation Loss: 0.79, accuracy = 0.70\n",
            "Epoch: 10, Training Loss: 0.19, Validation Loss: 0.77, accuracy = 0.68\n",
            "Epoch: 11, Training Loss: 0.17, Validation Loss: 0.83, accuracy = 0.67\n",
            "Epoch: 12, Training Loss: 0.16, Validation Loss: 0.79, accuracy = 0.69\n",
            "Epoch: 13, Training Loss: 0.13, Validation Loss: 0.79, accuracy = 0.72\n",
            "Epoch: 14, Training Loss: 0.11, Validation Loss: 0.82, accuracy = 0.71\n",
            "Epoch: 15, Training Loss: 0.10, Validation Loss: 0.81, accuracy = 0.70\n",
            "Epoch: 16, Training Loss: 0.08, Validation Loss: 0.83, accuracy = 0.71\n",
            "Epoch: 17, Training Loss: 0.07, Validation Loss: 0.86, accuracy = 0.70\n",
            "Epoch: 18, Training Loss: 0.07, Validation Loss: 0.85, accuracy = 0.70\n",
            "Epoch: 19, Training Loss: 0.06, Validation Loss: 0.88, accuracy = 0.70\n"
          ]
        }
      ]
    },
    {
      "cell_type": "code",
      "source": [
        "# Make predictions\n",
        "labels = ['Cat', 'Fish']\n",
        "\n",
        "# example image\n",
        "img = Image.open('/content/drive/MyDrive/Colab Notebooks/Pytorch_Book/test/cat/2071455892_689f59db15.jpg')\n",
        "img = transforms(img).to(device)\n",
        "\n",
        "# use model to make prediction\n",
        "prediction = simplenet(img)\n",
        "# get index of highest value\n",
        "prediction = prediction.argmax()\n",
        "print(labels[prediction])"
      ],
      "metadata": {
        "colab": {
          "base_uri": "https://localhost:8080/"
        },
        "id": "hJbJ_HIZcUmb",
        "outputId": "e6af4634-c68d-496f-a57f-f16e7251863c"
      },
      "execution_count": 26,
      "outputs": [
        {
          "output_type": "stream",
          "name": "stdout",
          "text": [
            "Cat\n"
          ]
        }
      ]
    },
    {
      "cell_type": "code",
      "source": [
        "# Save model\n",
        "# save structure an parameter\n",
        "torch.save(simplenet, '/content/drive/MyDrive/Colab Notebooks/Pytorch_Book/model/simplenet')\n",
        "# only save models state\n",
        "torch.save(simplenet.state_dict(), '/content/drive/MyDrive/Colab Notebooks/Pytorch_Book/model/simplenet_state')"
      ],
      "metadata": {
        "id": "Ojf6VHCxd6EK"
      },
      "execution_count": 28,
      "outputs": []
    }
  ]
}